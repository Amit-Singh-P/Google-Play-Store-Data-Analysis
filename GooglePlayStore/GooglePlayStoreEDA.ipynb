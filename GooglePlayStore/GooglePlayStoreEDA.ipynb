# EDA PROJECT ON GOOGLE APP STORE DATASET
#### Importing necessary libraries
import pandas as pd
import numpy as np
import warnings
warnings.filterwarnings('ignore')

#### Data ingestion
df = pd.read_csv('Google-Playstore.csv')
df.head()

#### Attribute information
* App Name: 
#### last 5 rows of the dataset
df.tail()

#### Shape of the dataset
df.shape

#### Information of the data
df.info()

#### Statistical info about the data
df.describe()

#### Correlation between all the numerical columns
df.corr(numeric_only=True)

#### Droppping the unnecessary column "Unnamed: 0"
# df.drop(columns = 'Unnamed: 0',inplace=True)
df.head()

#### To get the list of all the columns
df.columns
df.loc[:,'App Name':'Price']
df.columns
df.loc[:,'Price':]

#### Checking the duplicated rows in the data
df.duplicated().sum()

#### Checking the null values
df.isnull().sum()

#### Dealing with the null values
df['Developer Id'].value_counts()
df.columns
num_col = ['Rating','Rating Count','Minimum Installs','Maximum Installs']
import matplotlib.pyplot as plt
import seaborn as sns
for i in df.columns:
    if i in num_col:
        sns.boxplot(df[i])
        plt.show()
for i in df.columns:
    if i in num_col:
        df[i].fillna(df[i].median(),inplace=True)
df.isnull().sum()
mode_col = []
for i in df.columns:
    if i not in num_col:
        mode_col.append(i)
print(mode_col)

#### Filling rest columns with the mode
for i in df.columns:
    if i in mode_col:
        df[i].fillna(df[i].mode()[0],inplace=True)
df.isnull().sum()
df.head()

#### Top 5 App Name with the maximum rating
df[['App Name','Rating']].sort_values(by = 'Rating').tail()

##### Top 5 App Name with the maximum average rating
df.groupby('App Name')['Rating'].mean().sort_values().tail()

#### Top 5 App Name with the maximum Rating count
df[['App Name','Rating Count']].sort_values(by ='Rating Count').tail(5)

#### Top 5 name with the maximum installation
df[['App Name','Maximum Installs']].sort_values(by ='Maximum Installs').tail(5)

#### Top 5 paid apps with the maximum average rating
df[['App Name','Rating']][df['Free']==False].sort_values(by='Rating').tail()

#### Top 5 App Name with the maximum Price
df[['App Name','Price']].sort_values(by='Price').tail()
df.groupby('App Name')['Price'].max().sort_values().tail()
df.head()

#### Category wise average rating
df.groupby('Category')['Rating'].mean()

#### Top 5 category with their average rating
df.groupby('Category')['Rating'].mean().sort_values().tail()

#### Top 5 category with their total rating count
df.groupby('Category')['Rating Count'].sum().sort_values().tail()
df.head()

#### Category wise total No of apps
df.groupby('Category')['App Name'].count()

#### Top 5 category with the maximum no of apps
df.groupby('Category')['App Name'].count().sort_values().tail()

#### Converting the Released column into the datetime data type
df['Released'] = pd.to_datetime(df['Released'])
df['Released_Year'] = df['Released'].dt.year
df['Released_Month'] = df['Released'].dt.month_name()
df['Released_Day'] = df['Released'].dt.day_name()
df.head()

#### Year wise No of App Released
df.groupby('Released_Year')['App Name'].count()

#### Month wise No of App Released
df.groupby('Released_Month')['App Name'].count()

#### Day Name Wise No of App Released
df.groupby('Released_Day')['App Name'].count()

#### Year wise and Month wise total no of app released
df.pivot_table(index='Released_Year',columns='Released_Month',
               values='App Name',aggfunc='count')

#### Year wise and month wise avg rating
df.pivot_table(index='Released_Year',columns='Released_Month',
               values='Rating',aggfunc='mean')

#### Month and Day wise totall rating count
df.pivot_table(index='Released_Month',columns='Released_Day',
               values='Rating Count',aggfunc='sum')

### Univariate Analysis
sns.set(style="whitegrid")

#### The distribution of apps across different categories
plt.figure(figsize=(12, 10))
sns.countplot(data=df, y='Category', order=df['Category'].value_counts().index)
plt.title('App Count by Category')
plt.xlabel('Count')
plt.ylabel('Category')
plt.tight_layout()
plt.show()

#### The distribution of app ratings
plt.figure(figsize=(8, 5))
sns.histplot(df['Rating'], kde=True, bins=30, color='skyblue') # kde - Kernal density estimater
plt.title('Distribution of App Ratings')
plt.xlabel('Rating')
plt.ylabel('Frequency')
plt.tight_layout() # To prevent overlapping 
plt.show()

plt.figure(figsize=(8, 5))
sns.distplot(df['Rating'], kde=True, bins=30, color='skyblue')
plt.title('Distribution of App Ratings')
plt.xlabel('Rating')
plt.ylabel('Frequency')
plt.tight_layout()
plt.show()

#### No of app free versus paid
plt.figure(figsize=(6, 4))
sns.countplot(data=df, x='Free', palette='Set2')
plt.title('Distribution of Free vs Paid Apps')
plt.tight_layout()
plt.show()

plt.figure(figsize=(6, 4))
sns.countplot(data=df, y='Free', palette='Set2')
plt.title('Distribution of Free vs Paid Apps')
plt.tight_layout()
plt.show()

#### the most common app content ratings
plt.figure(figsize=(7, 4))
sns.countplot(data=df, x='Content Rating', order=df['Content Rating'].value_counts().index)
plt.title('Distribution of Content Ratings')
plt.xlabel('Content Rating')
plt.ylabel('Count')
plt.tight_layout()
plt.show()

plt.figure(figsize=(7, 4))
sns.countplot(data=df, x='Content Rating', order=df['Content Rating'].value_counts().index)
plt.title('Distribution of Content Ratings')
plt.xlabel('Content Rating')
plt.ylabel('Count')
plt.xticks(rotation=45) # To rotate x-axis labels
plt.tight_layout()
plt.show()

#### Distibution of App Sizes
plt.figure(figsize=(8, 5))
plt.hist(df['Size'].dropna(), bins=30, color='orange')
plt.title('Distribution of App Sizes')
plt.xlabel('Size (in MB)')
plt.ylabel('Frequency')
plt.tight_layout()
plt.show()

#### the distribution of number of rating
df.head()
df.columns
plt.figure(figsize=(8, 5))
sns.histplot(df['Rating'].dropna(), bins=50, color='purple')
# When there is skewness, we can apply log to evenly distribute the data
plt.title('Distribution of Rating')
plt.xlabel('Rating')
plt.ylabel('Frequency')
plt.tight_layout()
plt.show()

### Bivariate Analysis
#### How ratings differ between free and paid apps
plt.figure(figsize=(6, 4))
sns.boxplot(data=df, x='Free', y='Rating', palette='coolwarm')
plt.title('Rating by App Type')
plt.tight_layout()
plt.show()

#### How does content rating affect average app rating
plt.figure(figsize=(8, 4))
sns.boxplot(data=df, x='Content Rating', y='Rating', palette='Set3')
plt.title('Rating Distribution Across Content Ratings')
plt.tight_layout()
plt.show()

#### How does number of installs vary with price for paid apps
plt.figure(figsize=(10, 6))
sns.scatterplot(data=df[df['Price'] > 0], x='Price', y='Installs', alpha=0.9) # alpha - It is used to apply transparency 
plt.title('Price vs Installs (Paid Apps)')
plt.xlabel('Price ($)')
plt.ylabel('Installs')
plt.yscale('log')
plt.tight_layout()
plt.show()

#### Which app categories have the highest total installs
df["Installs"]
top_installs = df.groupby('Category')['Installs'].max().sort_values(ascending=False).head(5)
top_installs
#### How does app type (Free/Paid) vary across top categories?
top_cats = df['Category'].value_counts().head(6).index
plt.figure(figsize=(10, 6))
sns.countplot(data=df[df['Category'].isin(top_cats)], x='Category', hue='Free', palette='Set2')
plt.title('App Type Distribution in Top 6 Categories')
plt.ylabel('App Count')
plt.tight_layout()
plt.show()

#### How does average rating vary with app type across content ratings
plt.figure(figsize=(10, 6))
sns.barplot(data=df, x='Content Rating', y='Rating', hue='Free', ci=None, palette='pastel')
plt.title('Average Rating by Content Rating and Type')
plt.xlabel('Content Rating')
plt.ylabel('Average Rating')
plt.tight_layout()
plt.show()

df.head()
#### Multi-Variate Analysis
#### App Count by Category & Type
Top_cat = df['Category'].value_counts().head(8).index
Top_cat
plt.figure(figsize=(12, 6))
sns.countplot(data=df[df['Category'].isin(Top_cat)],
              x='Category', hue='Free', palette='Set2')
plt.title('App Type Distribution in Top Categories')
plt.xticks(rotation=45)
plt.tight_layout()
plt.show()

#### Which combinations of category and content rating have the highest average ratings?
rating_pivot = df.pivot_table(index='Category', columns='Content Rating', values='Rating', aggfunc='mean')
rating_pivot
plt.figure(figsize=(14, 10))
sns.heatmap(rating_pivot, annot=True, fmt=".2f", cmap='coolwarm', linewidths=0.5, linecolor='gray')
plt.title('Average Rating by Category and Content Rating', fontsize=14)
plt.xlabel('Content Rating')
plt.ylabel('Category')
plt.tight_layout()
plt.show()

#### How do ratings vary across content ratings and app type (Free vs Paid)
plt.figure(figsize=(12, 6))
sns.boxplot(data=df, x='Content Rating', y='Rating', hue='Free', palette='Set2')
plt.title('Rating Distribution by Content Rating and App Type', fontsize=14)
plt.xlabel('Content Rating')
plt.ylabel('Rating')
plt.tight_layout()
plt.show()

df.to_csv("Google_app_store_data_cleaned.csv", index=False)
